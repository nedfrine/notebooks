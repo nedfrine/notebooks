{
 "cells": [
  {
   "cell_type": "code",
   "execution_count": 2,
   "metadata": {},
   "outputs": [
    {
     "name": "stdout",
     "output_type": "stream",
     "text": [
      "Populating the interactive namespace from numpy and matplotlib\n"
     ]
    }
   ],
   "source": [
    "%pylab inline"
   ]
  },
  {
   "cell_type": "code",
   "execution_count": 3,
   "metadata": {},
   "outputs": [],
   "source": [
    "from sklearn.feature_extraction.text import CountVectorizer, TfidfVectorizer\n"
   ]
  },
  {
   "cell_type": "code",
   "execution_count": 4,
   "metadata": {},
   "outputs": [
    {
     "name": "stdout",
     "output_type": "stream",
     "text": [
      " is not a proper json line\n",
      "15015\n"
     ]
    }
   ],
   "source": [
    "import json\n",
    "\n",
    "input_ls = []\n",
    "f = open('inputTraining.txt')\n",
    "\n",
    "for line in iter(f):\n",
    "    try:\n",
    "        input_ls.append(json.loads(line))\n",
    "    except ValueError:\n",
    "        print line +'is not a proper json line'\n",
    "f.close()\n",
    "\n",
    "nCount = input_ls[0]\n",
    "input_ls = input_ls[1:]\n",
    "\n",
    "if len(input_ls) != nCount :\n",
    "    print 'Data is not correct, pls check!'\n",
    "\n",
    "    \n",
    "calvin = []\n",
    "hobbes = []\n",
    "for c in input_ls:\n",
    "    calvin.append(c.get('calvin'))\n",
    "    hobbes.append(c.get('hobbes'))\n",
    "    \n",
    "target = []\n",
    "f = open('outputTraining.txt')\n",
    "for line in iter(f):\n",
    "    line = line.replace('\\n','')\n",
    "    target.append(line)\n",
    "f.close()\n",
    "print len(target)"
   ]
  },
  {
   "cell_type": "code",
   "execution_count": 2,
   "metadata": {},
   "outputs": [
    {
     "ename": "NameError",
     "evalue": "name 'calvin' is not defined",
     "output_type": "error",
     "traceback": [
      "\u001b[1;31m---------------------------------------------------------------------------\u001b[0m",
      "\u001b[1;31mNameError\u001b[0m                                 Traceback (most recent call last)",
      "\u001b[1;32m<ipython-input-2-532f9d552c66>\u001b[0m in \u001b[0;36m<module>\u001b[1;34m()\u001b[0m\n\u001b[0;32m      1\u001b[0m \u001b[0mtot\u001b[0m \u001b[1;33m=\u001b[0m \u001b[1;33m[\u001b[0m\u001b[1;33m]\u001b[0m\u001b[1;33m\u001b[0m\u001b[0m\n\u001b[1;32m----> 2\u001b[1;33m \u001b[1;32mfor\u001b[0m \u001b[0mj\u001b[0m \u001b[1;32min\u001b[0m \u001b[0mrange\u001b[0m\u001b[1;33m(\u001b[0m\u001b[0mlen\u001b[0m\u001b[1;33m(\u001b[0m\u001b[0mcalvin\u001b[0m\u001b[1;33m)\u001b[0m\u001b[1;33m)\u001b[0m\u001b[1;33m:\u001b[0m\u001b[1;33m\u001b[0m\u001b[0m\n\u001b[0m\u001b[0;32m      3\u001b[0m     \u001b[0mcomb\u001b[0m \u001b[1;33m=\u001b[0m \u001b[0mcalvin\u001b[0m\u001b[1;33m[\u001b[0m\u001b[0mj\u001b[0m\u001b[1;33m]\u001b[0m \u001b[1;33m+\u001b[0m \u001b[1;34m\" \"\u001b[0m\u001b[1;33m+\u001b[0m \u001b[0mhobbes\u001b[0m\u001b[1;33m[\u001b[0m\u001b[0mj\u001b[0m\u001b[1;33m]\u001b[0m\u001b[1;33m\u001b[0m\u001b[0m\n\u001b[0;32m      4\u001b[0m     \u001b[0mtot\u001b[0m\u001b[1;33m.\u001b[0m\u001b[0mappend\u001b[0m\u001b[1;33m(\u001b[0m\u001b[0mcomb\u001b[0m\u001b[1;33m)\u001b[0m\u001b[1;33m\u001b[0m\u001b[0m\n\u001b[0;32m      5\u001b[0m \u001b[1;33m\u001b[0m\u001b[0m\n",
      "\u001b[1;31mNameError\u001b[0m: name 'calvin' is not defined"
     ]
    }
   ],
   "source": [
    "tot = []\n",
    "for j in range(len(calvin)):\n",
    "    comb = calvin[j] + \" \"+ hobbes[j]\n",
    "    tot.append(comb)\n",
    "    "
   ]
  },
  {
   "cell_type": "code",
   "execution_count": 126,
   "metadata": {},
   "outputs": [
    {
     "data": {
      "text/plain": [
       "'electronics'"
      ]
     },
     "execution_count": 126,
     "metadata": {},
     "output_type": "execute_result"
    }
   ],
   "source": [
    "target[0]\n"
   ]
  },
  {
   "cell_type": "code",
   "execution_count": 6,
   "metadata": {},
   "outputs": [],
   "source": [
    "from sklearn import svm"
   ]
  },
  {
   "cell_type": "code",
   "execution_count": 8,
   "metadata": {},
   "outputs": [],
   "source": [
    "from sklearn.naive_bayes import MultinomialNB\n",
    "from sklearn.naive_bayes import GaussianNB\n",
    "from sklearn.linear_model import PassiveAggressiveClassifier\n",
    "\n"
   ]
  },
  {
   "cell_type": "code",
   "execution_count": 1,
   "metadata": {},
   "outputs": [
    {
     "ename": "NameError",
     "evalue": "name 'tot' is not defined",
     "output_type": "error",
     "traceback": [
      "\u001b[1;31m---------------------------------------------------------------------------\u001b[0m",
      "\u001b[1;31mNameError\u001b[0m                                 Traceback (most recent call last)",
      "\u001b[1;32m<ipython-input-1-25d69dab0dee>\u001b[0m in \u001b[0;36m<module>\u001b[1;34m()\u001b[0m\n\u001b[1;32m----> 1\u001b[1;33m \u001b[0mtot\u001b[0m\u001b[1;33m\u001b[0m\u001b[0m\n\u001b[0m",
      "\u001b[1;31mNameError\u001b[0m: name 'tot' is not defined"
     ]
    }
   ],
   "source": [
    "tot"
   ]
  },
  {
   "cell_type": "code",
   "execution_count": 154,
   "metadata": {},
   "outputs": [],
   "source": [
    "#clf = PassiveAggressiveClassifier(max_iter=10000, random_state=0,tol=1e-3)"
   ]
  },
  {
   "cell_type": "code",
   "execution_count": 7,
   "metadata": {},
   "outputs": [],
   "source": [
    "clf = svm.SVC(C = 10, gamma=.001)"
   ]
  },
  {
   "cell_type": "code",
   "execution_count": 8,
   "metadata": {},
   "outputs": [],
   "source": [
    "from sklearn.decomposition import PCA\n",
    "from sklearn.model_selection import train_test_split\n",
    "vectorizer = CountVectorizer()\n",
    "vectorizer.fit(tot)\n",
    "vectorizer.vocabulary_\n",
    "\n",
    "x = vectorizer.transform(tot).toarray()\n",
    "pca = PCA(n_components=50).fit_transform(x)"
   ]
  },
  {
   "cell_type": "code",
   "execution_count": 9,
   "metadata": {},
   "outputs": [
    {
     "data": {
      "text/plain": [
       "(15015L, 50L)"
      ]
     },
     "execution_count": 9,
     "metadata": {},
     "output_type": "execute_result"
    }
   ],
   "source": [
    "pca.shape"
   ]
  },
  {
   "cell_type": "code",
   "execution_count": 11,
   "metadata": {},
   "outputs": [
    {
     "name": "stdout",
     "output_type": "stream",
     "text": [
      "((15015L, 27679L), (10510L, 27679L), (4505L, 27679L))\n"
     ]
    }
   ],
   "source": [
    "y = target\n",
    "\n",
    "x_train,x_test, y_train,y_test = train_test_split(x,y,test_size=0.30)\n",
    "print(x.shape, x_train.shape, x_test.shape)\n"
   ]
  },
  {
   "cell_type": "code",
   "execution_count": null,
   "metadata": {},
   "outputs": [],
   "source": [
    "clf.fit(x_train,y_train)"
   ]
  },
  {
   "cell_type": "code",
   "execution_count": 182,
   "metadata": {},
   "outputs": [
    {
     "name": "stdout",
     "output_type": "stream",
     "text": [
      "[[ 78  70  82  95  52  71  56 111  85  68]\n",
      " [  0   0   0   0   0   0   0   0   0   0]\n",
      " [ 27  40  34  30  22  33  20  34  28  37]\n",
      " [249 238 224 303 137 173  99 192 239 211]\n",
      " [  0   0   0   0   0   0   0   0   0   0]\n",
      " [  0   0   0   0   0   0   0   0   0   0]\n",
      " [113 120 123 112  80 146 370 112  81 110]\n",
      " [  0   0   0   0   0   0   0   0   0   0]\n",
      " [  0   0   0   0   0   0   0   0   0   0]\n",
      " [  0   0   0   0   0   0   0   0   0   0]]\n"
     ]
    }
   ],
   "source": [
    "from sklearn import metrics\n",
    "y_pred = clf.predict(x_test)\n",
    "print(metrics.confusion_matrix(y_pred,y_test))\n",
    "\n"
   ]
  },
  {
   "cell_type": "code",
   "execution_count": 10,
   "metadata": {},
   "outputs": [
    {
     "ename": "ImportError",
     "evalue": "No module named jira",
     "output_type": "error",
     "traceback": [
      "\u001b[1;31m---------------------------------------------------------------------------\u001b[0m",
      "\u001b[1;31mImportError\u001b[0m                               Traceback (most recent call last)",
      "\u001b[1;32m<ipython-input-10-1e61bc2e6c5d>\u001b[0m in \u001b[0;36m<module>\u001b[1;34m()\u001b[0m\n\u001b[1;32m----> 1\u001b[1;33m \u001b[1;32mfrom\u001b[0m \u001b[0mjira\u001b[0m \u001b[1;32mimport\u001b[0m \u001b[0mJIRA\u001b[0m\u001b[1;33m\u001b[0m\u001b[0m\n\u001b[0m",
      "\u001b[1;31mImportError\u001b[0m: No module named jira"
     ]
    }
   ],
   "source": []
  },
  {
   "cell_type": "code",
   "execution_count": 183,
   "metadata": {},
   "outputs": [
    {
     "name": "stdout",
     "output_type": "stream",
     "text": [
      "              precision    recall  f1-score   support\n",
      "\n",
      "     android       0.17      0.10      0.13       768\n",
      "       apple       0.00      0.00      0.00         0\n",
      " electronics       0.07      0.11      0.09       305\n",
      "         gis       0.56      0.15      0.23      2065\n",
      " mathematica       0.00      0.00      0.00         0\n",
      "       photo       0.00      0.00      0.00         0\n",
      "       scifi       0.68      0.27      0.39      1367\n",
      "    security       0.00      0.00      0.00         0\n",
      "        unix       0.00      0.00      0.00         0\n",
      "   wordpress       0.00      0.00      0.00         0\n",
      "\n",
      "   micro avg       0.17      0.17      0.17      4505\n",
      "   macro avg       0.15      0.06      0.08      4505\n",
      "weighted avg       0.50      0.17      0.25      4505\n",
      "\n"
     ]
    }
   ],
   "source": [
    "print(metrics.classification_report(y_pred,y_test))"
   ]
  },
  {
   "cell_type": "markdown",
   "metadata": {},
   "source": [
    "Learn Linear Algebra , and Probability theory, statsitics\n",
    "Gilbert strand linear algebra - best available video lectures.\n",
    "\n",
    "\n",
    "singular value decompositions\n",
    "matrix factorizations\n",
    "\n",
    "watch pycon and scipy videos on youtube\n",
    "\n",
    "------------------------------------------------------------------------------------------\n",
    "\n",
    "neuralnetworksanddeeplearning.com--\n",
    "deeplearningbook.org\n",
    "\n",
    "---------\n",
    "follow OpenAI\n",
    "\n"
   ]
  }
 ],
 "metadata": {
  "kernelspec": {
   "display_name": "Python 2",
   "language": "python",
   "name": "python2"
  },
  "language_info": {
   "codemirror_mode": {
    "name": "ipython",
    "version": 2
   },
   "file_extension": ".py",
   "mimetype": "text/x-python",
   "name": "python",
   "nbconvert_exporter": "python",
   "pygments_lexer": "ipython2",
   "version": "2.7.15"
  }
 },
 "nbformat": 4,
 "nbformat_minor": 2
}

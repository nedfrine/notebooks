{
 "cells": [
  {
   "cell_type": "code",
   "execution_count": 1,
   "metadata": {},
   "outputs": [
    {
     "name": "stdout",
     "output_type": "stream",
     "text": [
      "Populating the interactive namespace from numpy and matplotlib\n"
     ]
    }
   ],
   "source": [
    "%pylab inline\n",
    "import pandas as pd"
   ]
  },
  {
   "cell_type": "code",
   "execution_count": 34,
   "metadata": {},
   "outputs": [
    {
     "name": "stdout",
     "output_type": "stream",
     "text": [
      "65381\n"
     ]
    }
   ],
   "source": [
    "from collections import defaultdict\n",
    "import csv\n",
    "data = []\n",
    "result = defaultdict(list)\n",
    "with open('ariba/alerts.csv') as csv_file:\n",
    "    csv_reader = csv.reader(csv_file, delimiter=',')\n",
    "    line_count = 0\n",
    "    \n",
    "    for row in csv_reader:\n",
    "        if(line_count == 0):\n",
    "            line_count += 1\n",
    "            continue\n",
    "#         print(row[9],\" | \", row[3])\n",
    "        prod = row[3]\n",
    "        txt = row[9]\n",
    "        result[prod].append(txt)        \n",
    "        line_count += 1\n",
    "        if(line_count > 200000):\n",
    "            break\n",
    "print(len(result['buyer']))"
   ]
  },
  {
   "cell_type": "code",
   "execution_count": 36,
   "metadata": {},
   "outputs": [
    {
     "data": {
      "text/plain": [
       "[' UI-8820367@app442 Average Search Time: 0.00 ms ',\n",
       " ' UI-12720695@app464 Failed Type Ahead Search Count: Error',\n",
       " ' UI-21420004@app439 Failed Search Count: Error',\n",
       " ' UI-12720695@app464 Average Search Time: 0.00 ms ',\n",
       " ' UI-5620035@app494 Average Search Time: 0.00 ms ',\n",
       " ' UI-12720279@app464 Failed Type Ahead Search Count: Error',\n",
       " ' UI-12520475@app448 Failed Search Count: Error',\n",
       " ' UI-12720279@app464 Failed Search Count: Error',\n",
       " ' UI-12520475@app448 Average Search Time: 0.00 ms ',\n",
       " ' UI-12720279@app464 Average Search Time: 0.00 ms ',\n",
       " ' UI-12320642@app463 Ninety Percentile Type Ahead Search Time: 0.00 ms ',\n",
       " ' UI-12520319@app448 Failed Type Ahead Search Count: Error',\n",
       " ' UI-12320642@app463 Failed Type Ahead Search Count: Error',\n",
       " ' UI-12520319@app448 Ninety Percentile Search Time: 0.00 ms ',\n",
       " ' UI-1220464@app435 Ninety Percentile Type Ahead Search Time: 0.00 ms ',\n",
       " ' UI-12520319@app448 Average Search Time: 0.00 ms ',\n",
       " ' UI-1220464@app435 Average Type Ahead Search Time: 0.00 ms ',\n",
       " ' UI-11920594@app483 Failed Search Count: Error',\n",
       " ' UI-11620329@app462 Failed Type Ahead Search Count: Error',\n",
       " ' UI-8720223@app460 Failed Search Count: Error',\n",
       " ' UI-11620329@app462 Failed Search Count: Error',\n",
       " ' UI-8620222@app459 Ninety Percentile Type Ahead Search Time: 0.00 ms ',\n",
       " ' UI-11620329@app462 Ninety Percentile Type Ahead Search Time: 0.00 ms ',\n",
       " ' UI-8620222@app459 Failed Type Ahead Search Count: Error',\n",
       " ' UI-11620329@app462 Average Search Time: 0.00 ms ',\n",
       " ' UI-8620222@app459 Average Type Ahead Search Time: 0.00 ms ',\n",
       " ' UI-10420359@app547 Failed Type Ahead Search Count: Error',\n",
       " ' UI-8520585@app457 Ninety Percentile Search Time: 0.00 ms ',\n",
       " ' UI-8520585@app457 Failed Search Count: Error',\n",
       " ' UI-12720023@app464 Average Type Ahead Search Time: 0.00 ms ',\n",
       " ' UI-8620742@app459 Average Search Time: 0.00 ms ',\n",
       " ' UI-8520585@app457 Average Search Time: 0.00 ms ',\n",
       " ' UI-12320642@app463 Ninety Percentile Search Time: 0.00 ms ',\n",
       " ' UI-4720184@app491 Failed Type Ahead Search Count: Error',\n",
       " ' UI-12320642@app463 Failed Search Count: Error',\n",
       " ' UI-4520065@app453 Ninety Percentile Type Ahead Search Time: 0.00 ms ',\n",
       " ' UI-4520065@app453 Failed Type Ahead Search Count: Error',\n",
       " ' UI-12320642@app463 Average Search Time: 0.00 ms ',\n",
       " ' UI-320209@app440 Average Search Time: 0.00 ms ',\n",
       " ' UI-4520065@app453 Average Search Time: 0.00 ms ',\n",
       " ' UI-18120048@app420 Average Search Time: 0.00 ms ',\n",
       " ' UI-4220582@app452 Average Search Time: 0.00 ms ',\n",
       " ' UI-3320804@app487 Ninety Percentile Type Ahead Search Time: 0.00 ms ',\n",
       " ' UI-24820010@app445 Failed Search Count: Error',\n",
       " ' UI-14820079@app488 Ninety Percentile Type Ahead Search Time: 0.00 ms ',\n",
       " ' UI-1220620@app435 Average Search Time: 0.00 ms ',\n",
       " ' UI-10420827@app547 Failed Type Ahead Search Count: Error',\n",
       " ' UI-14820079@app488 Average Type Ahead Search Time: 0.00 ms ',\n",
       " ' UI-21020519@app438 Average Type Ahead Search Time: 0.00 ms ',\n",
       " ' UI-14420567@app429 Ninety Percentile Type Ahead Search Time: 0.00 ms ',\n",
       " ' UI-8520429@app457 Failed Type Ahead Search Count: Error',\n",
       " ' UI-14420567@app429 Failed Type Ahead Search Count: Error',\n",
       " ' UI-14420567@app429 Average Search Time: 0.00 ms ',\n",
       " ' UI-14420307@app429 Failed Type Ahead Search Count: Error',\n",
       " ' UI-14420307@app429 Average Search Time: 0.00 ms ',\n",
       " ' UI-3320700@app487 Average Search Time: 0.00 ms ',\n",
       " ' UI-17720027@app484 Ninety Percentile Search Time: 0.00 ms ',\n",
       " ' UI-5520202@app519 Average Type Ahead Search Time: 0.00 ms ',\n",
       " ' UI-17720027@app484 Average Type Ahead Search Time: 0.00 ms ',\n",
       " ' UI-4920810@app493 Ninety Percentile Search Time: 0.00 ms ',\n",
       " ' UI-4920810@app493 Failed Search Count: Error',\n",
       " ' UI-1520045@app515 Ninety Percentile Type Ahead Search Time: 0.00 ms ',\n",
       " ' UI-1520045@app515 Failed Search Count: Error',\n",
       " ' UI-4720184@app491 Ninety Percentile Type Ahead Search Time: 0.00 ms ',\n",
       " ' UI-4720184@app491 Failed Search Count: Error',\n",
       " ' UI-17720647@app484 Average Type Ahead Search Time: 0.00 ms ',\n",
       " ' UI-4720184@app491 Average Search Time: 0.00 ms ',\n",
       " ' UI-14520280@app466 Ninety Percentile Type Ahead Search Time: 0.00 ms ',\n",
       " ' UI-25220183@app490 Ninety Percentile Search Time: 0.00 ms ',\n",
       " ' UI-14520280@app466 Failed Search Count: Error',\n",
       " ' UI-24820734@app445 Average Type Ahead Search Time: 0.00 ms ',\n",
       " ' UI-25220703@app490 Failed Search Count: Error',\n",
       " ' UI-22420815@app506 Ninety Percentile Type Ahead Search Time: 0.00 ms ',\n",
       " ' UI-18720052@app437 Average Type Ahead Search Time: 0.00 ms ',\n",
       " ' UI-22420815@app506 Ninety Percentile Search Time: 0.00 ms ',\n",
       " ' UI-4820809@app492 Ninety Percentile Type Ahead Search Time: 0.00 ms ',\n",
       " ' UI-12520735@app448 Average Search Time: 0.00 ms ',\n",
       " ' UI-14820079@app488 Failed Type Ahead Search Count: Error',\n",
       " ' UI-1520820@app515 Average Type Ahead Search Time: 0.00 ms ',\n",
       " ' UI-5520358@app519 Ninety Percentile Search Time: 0.00 ms ',\n",
       " ' UI-14420619@app429 Ninety Percentile Search Time: 0.00 ms ',\n",
       " ' UI-5520202@app519 Average Type Ahead Search Time: 0.00 ms ',\n",
       " ' UI-14420619@app429 Failed Search Count: Error',\n",
       " ' UI-420366@app441 Average Type Ahead Search Time: 0.00 ms ',\n",
       " ' UI-14420619@app429 Average Search Time: 0.00 ms ',\n",
       " ' UI-4620046@app517 Ninety Percentile Type Ahead Search Time: 0.00 ms ',\n",
       " ' UI-1220620@app435 Ninety Percentile Type Ahead Search Time: 0.00 ms ',\n",
       " ' UI-4620046@app517 Failed Type Ahead Search Count: Error',\n",
       " ' UI-12320798@app463 Failed Type Ahead Search Count: Error',\n",
       " ' UI-4620046@app517 Average Type Ahead Search Time: 0.00 ms ',\n",
       " ' UI-12320798@app463 Average Type Ahead Search Time: 0.00 ms ',\n",
       " ' UI-4620046@app517 Average Search Time: 0.00 ms ',\n",
       " ' UI-8920276@app461 Ninety Percentile Type Ahead Search Time: 0.00 ms ',\n",
       " ' UI-18720052@app437 Ninety Percentile Type Ahead Search Time: 0.00 ms ',\n",
       " ' UI-18720052@app437 Failed Type Ahead Search Count: Error',\n",
       " ' UI-5520202@app519 Failed Type Ahead Search Count: Error',\n",
       " ' UI-25220703@app490 Average Search Time: 0.00 ms ',\n",
       " ' UI-5520202@app519 Average Search Time: 0.00 ms ',\n",
       " ' UI-18120048@app420 Ninety Percentile Type Ahead Search Time: 0.00 ms ',\n",
       " ' UI-4920810@app493 Failed Type Ahead Search Count: Error']"
      ]
     },
     "execution_count": 36,
     "metadata": {},
     "output_type": "execute_result"
    }
   ],
   "source": [
    "df = result['buyer']\n",
    "df[500:600]"
   ]
  }
 ],
 "metadata": {
  "kernelspec": {
   "display_name": "Python 3",
   "language": "python",
   "name": "python3"
  },
  "language_info": {
   "codemirror_mode": {
    "name": "ipython",
    "version": 3
   },
   "file_extension": ".py",
   "mimetype": "text/x-python",
   "name": "python",
   "nbconvert_exporter": "python",
   "pygments_lexer": "ipython3",
   "version": "3.6.1"
  }
 },
 "nbformat": 4,
 "nbformat_minor": 2
}

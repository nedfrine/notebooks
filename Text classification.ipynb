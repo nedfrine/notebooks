{
 "cells": [
  {
   "cell_type": "code",
   "execution_count": 1,
   "metadata": {},
   "outputs": [],
   "source": [
    "from sklearn.feature_extraction.text import CountVectorizer,TfidfVectorizer\n"
   ]
  },
  {
   "cell_type": "code",
   "execution_count": 2,
   "metadata": {},
   "outputs": [
    {
     "data": {
      "text/plain": [
       "{'cat': 0,\n",
       " 'good': 1,\n",
       " 'is': 2,\n",
       " 'mat': 3,\n",
       " 'nice': 4,\n",
       " 'on': 5,\n",
       " 'one': 6,\n",
       " 'sat': 7,\n",
       " 'that': 8,\n",
       " 'the': 9}"
      ]
     },
     "execution_count": 2,
     "metadata": {},
     "output_type": "execute_result"
    }
   ],
   "source": [
    "vectorizer = CountVectorizer()\n",
    "tex = [\"The cat sat on the mat\",\n",
    "              \"The cat is a nice cat\",\n",
    "              \"That cat is a good one\",]\n",
    "vectorizer.fit(tex )\n",
    "vectorizer.vocabulary_"
   ]
  },
  {
   "cell_type": "code",
   "execution_count": 9,
   "metadata": {},
   "outputs": [],
   "source": [
    "x = vectorizer.transform(tex).toarray()"
   ]
  },
  {
   "cell_type": "code",
   "execution_count": 12,
   "metadata": {},
   "outputs": [
    {
     "name": "stdout",
     "output_type": "stream",
     "text": [
      "[[1 0 0 1 0 1 0 1 0 2]\n",
      " [2 0 1 0 1 0 0 0 0 1]\n",
      " [1 1 1 0 0 0 1 0 1 0]]\n",
      "[u'cat', u'good', u'is', u'mat', u'nice', u'on', u'one', u'sat', u'that', u'the']\n"
     ]
    }
   ],
   "source": [
    "print(x)\n",
    "print(vectorizer.get_feature_names())"
   ]
  },
  {
   "cell_type": "code",
   "execution_count": 13,
   "metadata": {},
   "outputs": [
    {
     "data": {
      "text/plain": [
       "(3L, 10L)"
      ]
     },
     "execution_count": 13,
     "metadata": {},
     "output_type": "execute_result"
    }
   ],
   "source": [
    "x.shape"
   ]
  },
  {
   "cell_type": "code",
   "execution_count": 16,
   "metadata": {},
   "outputs": [
    {
     "data": {
      "text/plain": [
       "{u'cat': 0,\n",
       " u'good': 1,\n",
       " u'is': 2,\n",
       " u'mat': 3,\n",
       " u'nice': 4,\n",
       " u'on': 5,\n",
       " u'one': 6,\n",
       " u'sat': 7,\n",
       " u'that': 8,\n",
       " u'the': 9}"
      ]
     },
     "execution_count": 16,
     "metadata": {},
     "output_type": "execute_result"
    }
   ],
   "source": [
    "tfv = TfidfVectorizer(analyzer=\"word\", ngram_range=(1,1))\n",
    "tfv.fit(tex )\n",
    "tfv.vocabulary_\n"
   ]
  },
  {
   "cell_type": "code",
   "execution_count": 18,
   "metadata": {},
   "outputs": [
    {
     "name": "stdout",
     "output_type": "stream",
     "text": [
      "[[0.2482013  0.         0.         0.42024133 0.         0.42024133\n",
      "  0.         0.42024133 0.         0.63920872]\n",
      " [0.62674687 0.         0.40352536 0.         0.53058735 0.\n",
      "  0.         0.         0.         0.40352536]\n",
      " [0.29803159 0.50461134 0.38376993 0.         0.         0.\n",
      "  0.50461134 0.         0.50461134 0.        ]]\n"
     ]
    }
   ],
   "source": [
    "x = tfv.transform(tex).toarray()\n",
    "print(x)"
   ]
  }
 ],
 "metadata": {
  "kernelspec": {
   "display_name": "Python 2",
   "language": "python",
   "name": "python2"
  },
  "language_info": {
   "codemirror_mode": {
    "name": "ipython",
    "version": 2
   },
   "file_extension": ".py",
   "mimetype": "text/x-python",
   "name": "python",
   "nbconvert_exporter": "python",
   "pygments_lexer": "ipython2",
   "version": "2.7.15"
  }
 },
 "nbformat": 4,
 "nbformat_minor": 2
}
